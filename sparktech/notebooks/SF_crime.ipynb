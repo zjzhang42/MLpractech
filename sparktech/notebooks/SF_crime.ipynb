{
 "cells": [
  {
   "cell_type": "markdown",
   "metadata": {},
   "source": [
    "# Crime Statistics based on PySpark\n",
    "\n",
    "### Modification History\n",
    "\\>\\>\\> ZJ Zhang (Feb 11th, 2018)"
   ]
  },
  {
   "cell_type": "markdown",
   "metadata": {},
   "source": [
    "I use pyspark to statistically study the crimes in San Francisco, with data (\"sf_data.csv\") are downloaded from the [Police Department Incidents](https://data.sfgov.org/Public-Safety/Police-Department-Incidents/tmnf-yvry). "
   ]
  },
  {
   "cell_type": "code",
   "execution_count": 1,
   "metadata": {
    "collapsed": true
   },
   "outputs": [],
   "source": [
    "## import spark env\n",
    "from csv import reader\n",
    "from pyspark.sql import SQLContext\n",
    "from pyspark.sql.types import *\n",
    "sqlContext = SQLContext(sc)"
   ]
  },
  {
   "cell_type": "code",
   "execution_count": 2,
   "metadata": {},
   "outputs": [
    {
     "name": "stdout",
     "output_type": "stream",
     "text": [
      "There are 2177995 lines in the file.\n",
      "- quick look at the data:\n"
     ]
    },
    {
     "data": {
      "text/plain": [
       "['IncidntNum,Category,Descript,DayOfWeek,Date,Time,PdDistrict,Resolution,Address,X,Y,Location,PdId',\n",
       " '150060275,NON-CRIMINAL,LOST PROPERTY,Monday,01/19/2015,14:00,MISSION,NONE,18TH ST / VALENCIA ST,-122.42158168137,37.7617007179518,\"(37.7617007179518, -122.42158168137)\",15006027571000',\n",
       " '150098210,ROBBERY,\"ROBBERY, BODILY FORCE\",Sunday,02/01/2015,15:45,TENDERLOIN,NONE,300 Block of LEAVENWORTH ST,-122.414406029855,37.7841907151119,\"(37.7841907151119, -122.414406029855)\",15009821003074',\n",
       " '150098210,ASSAULT,AGGRAVATED ASSAULT WITH BODILY FORCE,Sunday,02/01/2015,15:45,TENDERLOIN,NONE,300 Block of LEAVENWORTH ST,-122.414406029855,37.7841907151119,\"(37.7841907151119, -122.414406029855)\",15009821004014',\n",
       " '150098210,SECONDARY CODES,DOMESTIC VIOLENCE,Sunday,02/01/2015,15:45,TENDERLOIN,NONE,300 Block of LEAVENWORTH ST,-122.414406029855,37.7841907151119,\"(37.7841907151119, -122.414406029855)\",15009821015200']"
      ]
     },
     "execution_count": 2,
     "metadata": {},
     "output_type": "execute_result"
    }
   ],
   "source": [
    "## load data\n",
    "crime_file = sc.textFile('sf_data.csv')\n",
    "print(\"There are %d lines in the file.\"%(crime_file.count()))\n",
    "## take a look at data\n",
    "print(\"- quick look at the data:\")\n",
    "crime_file.take(5)"
   ]
  },
  {
   "cell_type": "code",
   "execution_count": 4,
   "metadata": {},
   "outputs": [
    {
     "name": "stdout",
     "output_type": "stream",
     "text": [
      "There are 13 fields:\n"
     ]
    },
    {
     "data": {
      "text/plain": [
       "[StructField(IncidntNum,StringType,true),\n",
       " StructField(Category,StringType,true),\n",
       " StructField(Descript,StringType,true),\n",
       " StructField(DayOfWeek,StringType,true),\n",
       " StructField(Date,StringType,true),\n",
       " StructField(Time,StringType,true),\n",
       " StructField(PdDistrict,StringType,true),\n",
       " StructField(Resolution,StringType,true),\n",
       " StructField(Address,StringType,true),\n",
       " StructField(X,StringType,true),\n",
       " StructField(Y,StringType,true),\n",
       " StructField(Location,StringType,true),\n",
       " StructField(PdId,StringType,true)]"
      ]
     },
     "execution_count": 4,
     "metadata": {},
     "output_type": "execute_result"
    }
   ],
   "source": [
    "## define fields and build a schema\n",
    "schemaString = crime_file.first()\n",
    "fields = [StructField(field_name, StringType(), True) for field_name in schemaString.split(',')]\n",
    "schema = StructType(fields)\n",
    "## step prints\n",
    "print(\"There are %d fields:\"%(len(fields)))\n",
    "fields"
   ]
  },
  {
   "cell_type": "code",
   "execution_count": 5,
   "metadata": {},
   "outputs": [
    {
     "name": "stdout",
     "output_type": "stream",
     "text": [
      "There are 2177994 crime entries.\n"
     ]
    }
   ],
   "source": [
    "## strip header\n",
    "header = crime_file.filter(lambda l: \"IncidntNum\" in l)\n",
    "crime_nh_file = crime_file.subtract(header)\n",
    "# step prints\n",
    "print(\"There are %d crime entries.\"%(crime_nh_file.count()))"
   ]
  },
  {
   "cell_type": "code",
   "execution_count": 6,
   "metadata": {},
   "outputs": [
    {
     "data": {
      "text/plain": [
       "[Row(IncidntNum='150098561', Category='NON-CRIMINAL', Descript='AIDED CASE, MENTAL DISTURBED', DayOfWeek='Sunday', Date='02/01/2015', Time='17:58', PdDistrict='BAYVIEW', Resolution='EXCEPTIONAL CLEARANCE', Address='2500 Block of GRIFFITH ST', X='-122.386437671186', Y='37.7191834462785', Location='(37.7191834462785, -122.386437671186)', PdId='15009856164020'),\n",
       " Row(IncidntNum='150098652', Category='ASSAULT', Descript='STALKING', DayOfWeek='Monday', Date='01/05/2015', Time='00:01', PdDistrict='CENTRAL', Resolution='NONE', Address='700 Block of POWELL ST', X='-122.409144009353', Y='37.7915661006349', Location='(37.7915661006349, -122.409144009353)', PdId='15009865215201'),\n",
       " Row(IncidntNum='150098674', Category='DRIVING UNDER THE INFLUENCE', Descript='DRIVING WHILE UNDER THE INFLUENCE OF DRUGS', DayOfWeek='Sunday', Date='02/01/2015', Time='18:39', PdDistrict='NORTHERN', Resolution='ARREST, BOOKED', Address='CALIFORNIA ST / POLK ST', X='-122.420691680792', Y='37.7905770710537', Location='(37.7905770710537, -122.420691680792)', PdId='15009867465060'),\n",
       " Row(IncidntNum='150098680', Category='SUSPICIOUS OCC', Descript='INVESTIGATIVE DETENTION', DayOfWeek='Sunday', Date='02/01/2015', Time='18:37', PdDistrict='SOUTHERN', Resolution='NONE', Address='HOWARD ST / LAFAYETTE ST', X='-122.416305723264', Y='37.7724556440219', Location='(37.7724556440219, -122.416305723264)', PdId='15009868064085'),\n",
       " Row(IncidntNum='150099183', Category='ASSAULT', Descript='AGGRAVATED ASSAULT WITH BODILY FORCE', DayOfWeek='Sunday', Date='02/01/2015', Time='22:28', PdDistrict='CENTRAL', Resolution='NONE', Address='500 Block of BROADWAY ST', X='-122.406460643507', Y='37.7979466732983', Location='(37.7979466732983, -122.406460643507)', PdId='15009918304014')]"
      ]
     },
     "execution_count": 6,
     "metadata": {},
     "output_type": "execute_result"
    }
   ],
   "source": [
    "## build data frame\n",
    "crime_temp = crime_nh_file.map(lambda l: [x.strip('\"') for x in next(reader([l]))])\n",
    "crime_df = sqlContext.createDataFrame(crime_temp, schema)\n",
    "# step prints\n",
    "crime_df.head(5)"
   ]
  },
  {
   "cell_type": "code",
   "execution_count": 10,
   "metadata": {},
   "outputs": [
    {
     "name": "stdout",
     "output_type": "stream",
     "text": [
      "+---------------------------+------+\n",
      "|Category                   |count |\n",
      "+---------------------------+------+\n",
      "|FRAUD                      |40849 |\n",
      "|SUICIDE                    |1279  |\n",
      "|LIQUOR LAWS                |4073  |\n",
      "|SECONDARY CODES            |25306 |\n",
      "|FAMILY OFFENSES            |1173  |\n",
      "|MISSING PERSON             |63908 |\n",
      "|OTHER OFFENSES             |304955|\n",
      "|DRIVING UNDER THE INFLUENCE|5603  |\n",
      "|WARRANTS                   |100043|\n",
      "|ARSON                      |3858  |\n",
      "|FORGERY/COUNTERFEITING     |22873 |\n",
      "|GAMBLING                   |342   |\n",
      "|BRIBERY                    |799   |\n",
      "|ASSAULT                    |191003|\n",
      "|DRUNKENNESS                |9759  |\n",
      "|EXTORTION                  |728   |\n",
      "|TREA                       |14    |\n",
      "|WEAPON LAWS                |21774 |\n",
      "|LOITERING                  |2420  |\n",
      "|SUSPICIOUS OCC             |79083 |\n",
      "|ROBBERY                    |55009 |\n",
      "|SEX OFFENSES, FORCIBLE     |11447 |\n",
      "|PROSTITUTION               |16660 |\n",
      "|EMBEZZLEMENT               |2938  |\n",
      "|BAD CHECKS                 |916   |\n",
      "|DISORDERLY CONDUCT         |9960  |\n",
      "|RUNAWAY                    |4370  |\n",
      "|RECOVERED VEHICLE          |8715  |\n",
      "|VANDALISM                  |113871|\n",
      "|DRUG/NARCOTIC              |118431|\n",
      "|PORNOGRAPHY/OBSCENE MAT    |57    |\n",
      "|TRESPASS                   |19037 |\n",
      "|NON-CRIMINAL               |234111|\n",
      "|VEHICLE THEFT              |125434|\n",
      "|STOLEN PROPERTY            |11690 |\n",
      "|LARCENY/THEFT              |469957|\n",
      "|KIDNAPPING                 |5284  |\n",
      "|BURGLARY                   |89844 |\n",
      "|SEX OFFENSES, NON FORCIBLE |421   |\n",
      "+---------------------------+------+\n",
      "\n"
     ]
    }
   ],
   "source": [
    "## he number of crimes for different category:\n",
    "crime_df.groupBy(\"Category\").count().show(50, False)"
   ]
  },
  {
   "cell_type": "code",
   "execution_count": 8,
   "metadata": {},
   "outputs": [
    {
     "name": "stdout",
     "output_type": "stream",
     "text": [
      "+----------+------+\n",
      "|PdDistrict| count|\n",
      "+----------+------+\n",
      "|   MISSION|294915|\n",
      "|   BAYVIEW|217828|\n",
      "|   CENTRAL|221330|\n",
      "|   TARAVAL|164106|\n",
      "|TENDERLOIN|189437|\n",
      "| INGLESIDE|191149|\n",
      "|      PARK|123497|\n",
      "|  SOUTHERN|392965|\n",
      "|  RICHMOND|114854|\n",
      "|          |     1|\n",
      "|  NORTHERN|267912|\n",
      "+----------+------+\n",
      "\n"
     ]
    }
   ],
   "source": [
    "## the number of crimes for different district:\n",
    "crime_df.groupBy(\"PdDistrict\").count().show()"
   ]
  },
  {
   "cell_type": "code",
   "execution_count": 12,
   "metadata": {},
   "outputs": [
    {
     "name": "stdout",
     "output_type": "stream",
     "text": [
      "There are 289823 crime events occuring every Sunday at SF downtown.\n"
     ]
    }
   ],
   "source": [
    "# count the number of crimes each Sunday at SF downtown.\n",
    "print(\"There are %d crime events occuring every Sunday at SF downtown.\"%(crime_df.filter(crime_df.DayOfWeek == \"Sunday\").count()))"
   ]
  },
  {
   "cell_type": "markdown",
   "metadata": {
    "collapsed": true
   },
   "source": [
    "A very useful guide is [here](https://www.nodalpoint.com/spark-data-frames-from-csv-files-handling-headers-column-types/)."
   ]
  },
  {
   "cell_type": "code",
   "execution_count": null,
   "metadata": {
    "collapsed": true
   },
   "outputs": [],
   "source": []
  }
 ],
 "metadata": {
  "kernelspec": {
   "display_name": "Python 3",
   "language": "python",
   "name": "python3"
  },
  "language_info": {
   "codemirror_mode": {
    "name": "ipython",
    "version": 3
   },
   "file_extension": ".py",
   "mimetype": "text/x-python",
   "name": "python",
   "nbconvert_exporter": "python",
   "pygments_lexer": "ipython3",
   "version": "3.6.3"
  }
 },
 "nbformat": 4,
 "nbformat_minor": 2
}
